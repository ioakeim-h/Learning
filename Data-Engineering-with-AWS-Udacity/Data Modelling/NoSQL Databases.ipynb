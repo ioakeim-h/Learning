{
 "cells": [
  {
   "attachments": {},
   "cell_type": "markdown",
   "metadata": {},
   "source": [
    "## <center>NoSQL Databases (Apache Cassandra)</center>"
   ]
  },
  {
   "attachments": {},
   "cell_type": "markdown",
   "metadata": {},
   "source": [
    "Non-relational databases (NoSQL) are non-tabular databases that use different data structures than relational databases. There are various types of NoSQL databases - common types include: \n",
    "<ul>\n",
    "<li>Apache Cassandra (Partition Row Store) - data is distributed by partitions across nodes or servers and is organised in a columns-rows format</li>\n",
    "<li>MongoDB (Document store) - stores and queries data in JSON-like documents</li>\n",
    "<li>DynamoDB (Key-Value store) - data represented as a collection of key-value pairs</li>\n",
    "<li>Apache HBase (Wide Column store) - uses tables, rows, and columns but column name and formats can vary from row to row in the same table</li>\n",
    "<li>Neo4j (Graph Database) - relationships between entities is the main focus</li>\n",
    "</ul>"
   ]
  },
  {
   "attachments": {},
   "cell_type": "markdown",
   "metadata": {},
   "source": [
    "Key characteristics of **Apache Cassandra**:\n",
    "- Key space (a database in relational terms) - a collection of tables\n",
    "- Table - [a group of partitions](https://www.instaclustr.com/blog/cassandra-data-partitioning/)\n",
    "- Rows -  a single item"
   ]
  },
  {
   "attachments": {},
   "cell_type": "markdown",
   "metadata": {},
   "source": [
    "#### SQL vs NoSQL\n",
    "\n",
    "Relational databases have a fixed data model - the structure of data or dataset is fixed. This **static schema** means that the database is defined ahead of time and maintains its shape even when new data is added. Relational databases are therefore difficult when dealing with **evolving business requirements** which necessitate changes to the data model. Although changes to the schema can be done manually, this would be a time-consuming process that may impact other services or applications.\n",
    "\n",
    "Non-relational databases, however, have a **dynamic schema**. The data model can change with the addition of new data. This suggests that the data model is defined by the data itself. However, NoSQL need their queries in advance and ad-hoc queries are difficult for some types of NoSQL. Changing business requirements can therefore be hard to tackle with NoSQL as well. \n",
    "\n",
    "Reading: [designing databases](https://www.prisma.io/dataguide/intro/intro-to-schemas)"
   ]
  },
  {
   "attachments": {},
   "cell_type": "markdown",
   "metadata": {},
   "source": [
    "When to use a NoSQL Database:\n",
    "- Large amounts of data\n",
    "- Need to store different data type formats\n",
    "- Need fast reads and writes (high throughput)\n",
    "- Need to add data without having to manually modify the data structure (flexible schema)\n",
    "- Need [horizontal scalability](https://www.section.io/blog/scaling-horizontally-vs-vertically/)\n",
    "- Need [high availability](https://us.sios.com/resource/high-availability/)"
   ]
  },
  {
   "attachments": {},
   "cell_type": "markdown",
   "metadata": {},
   "source": [
    "When NOT to use a NoSQL Database (Apache Cassandra):\n",
    "- Need ACID transactions (with the exception of MongoDB, NoSQL databases do not support these)\n",
    "- Need to do JOINS, perform aggregations and analytics\n",
    "- Queries are unavailable"
   ]
  }
 ],
 "metadata": {
  "kernelspec": {
   "display_name": "Python 3",
   "language": "python",
   "name": "python3"
  },
  "language_info": {
   "name": "python",
   "version": "3.9.13 (main, Aug 25 2022, 23:51:50) [MSC v.1916 64 bit (AMD64)]"
  },
  "orig_nbformat": 4,
  "vscode": {
   "interpreter": {
    "hash": "e784092604130bb7844b67e4354338133fb81a42ea485e1ed7b30edde0dfdae6"
   }
  }
 },
 "nbformat": 4,
 "nbformat_minor": 2
}
