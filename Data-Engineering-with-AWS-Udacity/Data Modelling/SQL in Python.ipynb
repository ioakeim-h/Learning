{
 "cells": [
  {
   "attachments": {},
   "cell_type": "markdown",
   "metadata": {},
   "source": [
    "## PostgreSQL in Python"
   ]
  },
  {
   "attachments": {},
   "cell_type": "markdown",
   "metadata": {},
   "source": [
    "Pre-requisties:\n",
    "- PostgreSQL installed on your machine"
   ]
  },
  {
   "attachments": {},
   "cell_type": "markdown",
   "metadata": {},
   "source": [
    " The [psycopg2](https://pypi.org/project/psycopg2/) package allows SQL querying in a Python environment. Start by importing the package and connecting to the [default postgres database](https://stackoverflow.com/questions/2370525/default-database-named-postgres-on-postgresql-server). This is a necessary step before creating any new databases."
   ]
  },
  {
   "cell_type": "code",
   "execution_count": 1,
   "metadata": {},
   "outputs": [],
   "source": [
    "import psycopg2"
   ]
  },
  {
   "cell_type": "code",
   "execution_count": 2,
   "metadata": {},
   "outputs": [],
   "source": [
    "# Connect to the default database\n",
    "conn = psycopg2.connect(\n",
    "    dbname = \"postgres\",\n",
    "    user = \"postgres\",\n",
    "    password = \"****\" # Use password provided at postgresql installation\n",
    ")"
   ]
  },
  {
   "attachments": {},
   "cell_type": "markdown",
   "metadata": {},
   "source": [
    "We can now use this connection to get a [cursor](https://www.psycopg.org/docs/cursor.html#:~:text=class%20cursor,session%20wrapped%20by%20the%20connection.) which allows for query execution. For our queries to occur, however, we must commit them. This can be done by either running ```conn.commit()``` everytime we execute a query or by setting up **autocommit**. Autocommit closes the transaction when an action occurs so that no more actions can take place. If you do not set up autocommit you will have to call ```conn.commit()``` at the end of each command which can be useful in certain situations (e.g. testing for an outcome)."
   ]
  },
  {
   "cell_type": "code",
   "execution_count": 3,
   "metadata": {},
   "outputs": [],
   "source": [
    "# Get cursor\n",
    "cur = conn.cursor()\n",
    "\n",
    "# Set up autocommit\n",
    "conn.set_session(autocommit = True)"
   ]
  },
  {
   "attachments": {},
   "cell_type": "markdown",
   "metadata": {},
   "source": [
    "Queries can now be executed using the ```.execute()``` method which takes in a string of SQL syntax, and should be committed automatically. Let's try to create a new database to connect to."
   ]
  },
  {
   "cell_type": "code",
   "execution_count": 4,
   "metadata": {},
   "outputs": [],
   "source": [
    "# Creating a new database\n",
    "cur.execute(\"CREATE DATABASE test_db;\")"
   ]
  },
  {
   "attachments": {},
   "cell_type": "markdown",
   "metadata": {},
   "source": [
    "Before connecting to the new database, we must first close the existing connection with the default database. Then we can get a new cursor and set up autocommit."
   ]
  },
  {
   "cell_type": "code",
   "execution_count": 5,
   "metadata": {},
   "outputs": [],
   "source": [
    "# Close existing connection\n",
    "conn.close()\n",
    "\n",
    "# Connect to new database\n",
    "conn = psycopg2.connect(\n",
    "    dbname = \"test_db\",\n",
    "    user = \"postgres\",\n",
    "    password = \"qweasdzxc21\"\n",
    ")\n",
    "\n",
    "cur = conn.cursor()\n",
    "conn.set_session(autocommit = True)"
   ]
  },
  {
   "attachments": {},
   "cell_type": "markdown",
   "metadata": {},
   "source": [
    "Let's try creating a table with some columns and check if we were successful."
   ]
  },
  {
   "cell_type": "code",
   "execution_count": 6,
   "metadata": {},
   "outputs": [
    {
     "name": "stdout",
     "output_type": "stream",
     "text": [
      "[(0,)]\n"
     ]
    }
   ],
   "source": [
    "# Create table music_library\n",
    "cur.execute(\"CREATE TABLE IF NOT EXISTS music_library (album_name varchar, artist_name varchar, year int);\")\n",
    "\n",
    "# Check if table was created by returning number of rows\n",
    "cur.execute(\"SELECT COUNT(*) FROM music_library;\")\n",
    "print(cur.fetchall())"
   ]
  },
  {
   "attachments": {},
   "cell_type": "markdown",
   "metadata": {},
   "source": [
    "The ```.fetchall()``` method returns all (remaining) rows of a query result as a list of tuples. The result was zero which is correct since no rows were insterted into the table. Let's see how to insert a couple of rows and validate that they were inserted."
   ]
  },
  {
   "cell_type": "code",
   "execution_count": 7,
   "metadata": {},
   "outputs": [],
   "source": [
    "# Insert row 1\n",
    "cur.execute(\"INSERT INTO music_library (album_name, artist_name, year) \\\n",
    "    VALUES (%s, %s, %s)\",\n",
    "    (\"Let It Be\", \"The Beatles\", 1970)    \n",
    ")\n",
    "\n",
    "# Insert row 2 \n",
    "cur.execute(\n",
    "    \"INSERT INTO music_library (album_name, artist_name, year) \\\n",
    "        VALUES (%s, %s, %s)\", \n",
    "        (\"Rubber Soul\", \"The Beatles\", 1965)\n",
    ")"
   ]
  },
  {
   "attachments": {},
   "cell_type": "markdown",
   "metadata": {},
   "source": [
    "*Note*: If we run the insert statements more than once, duplicate data will be created. <br><br>\n",
    "As we are not executing queries in a Postgres shell, we will need a while loop to print the results with Python."
   ]
  },
  {
   "cell_type": "code",
   "execution_count": 8,
   "metadata": {},
   "outputs": [
    {
     "name": "stdout",
     "output_type": "stream",
     "text": [
      "('Let It Be', 'The Beatles', 1970)\n",
      "('Rubber Soul', 'The Beatles', 1965)\n"
     ]
    }
   ],
   "source": [
    "cur.execute(\"SELECT * FROM music_library;\")\n",
    "\n",
    "row = cur.fetchone() # gets first row\n",
    "while row:\n",
    "    print(row)\n",
    "    row = cur.fetchone() # gets next row"
   ]
  },
  {
   "attachments": {},
   "cell_type": "markdown",
   "metadata": {},
   "source": [
    "Finally, close the connection to the database."
   ]
  },
  {
   "cell_type": "code",
   "execution_count": 9,
   "metadata": {},
   "outputs": [],
   "source": [
    "cur.close()\n",
    "conn.close()"
   ]
  },
  {
   "attachments": {},
   "cell_type": "markdown",
   "metadata": {},
   "source": [
    "Create a new user? [Click here](https://phoenixnap.com/kb/postgres-create-user) for instructions."
   ]
  }
 ],
 "metadata": {
  "kernelspec": {
   "display_name": "base",
   "language": "python",
   "name": "python3"
  },
  "language_info": {
   "codemirror_mode": {
    "name": "ipython",
    "version": 3
   },
   "file_extension": ".py",
   "mimetype": "text/x-python",
   "name": "python",
   "nbconvert_exporter": "python",
   "pygments_lexer": "ipython3",
   "version": "3.9.13"
  },
  "orig_nbformat": 4,
  "vscode": {
   "interpreter": {
    "hash": "e784092604130bb7844b67e4354338133fb81a42ea485e1ed7b30edde0dfdae6"
   }
  }
 },
 "nbformat": 4,
 "nbformat_minor": 2
}
