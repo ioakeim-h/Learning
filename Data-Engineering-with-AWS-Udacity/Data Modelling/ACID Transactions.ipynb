{
 "cells": [
  {
   "attachments": {},
   "cell_type": "markdown",
   "metadata": {},
   "source": [
    "## <center>ACID Transactions (Relational Databases)</center>"
   ]
  },
  {
   "attachments": {},
   "cell_type": "markdown",
   "metadata": {},
   "source": [
    "A database transaction is a sequence of multiple operations performed on a database, and all served as a single logical unit of work - taking place wholly or not at all. ACID is an acronym that refers to the 4 key properties that define a transaction. These properties ensure that the data remain valid in the event of unexpected errors such as power failures."
   ]
  },
  {
   "attachments": {},
   "cell_type": "markdown",
   "metadata": {},
   "source": [
    "#### 1. Atomicity\n",
    "\n",
    "The whole transaction is processed, or nothing is processed. \n",
    "\n",
    "Think about transferring money from your checking to your savings account. Money must be removed from your checking and added to your savings in one block (or an ACID transaction). If you do not do this in one ACID transaction, you could end up removing money from your checking account and never deposing it in your savings account!"
   ]
  },
  {
   "attachments": {},
   "cell_type": "markdown",
   "metadata": {},
   "source": [
    "#### 2. Consistency\n",
    "\n",
    "Only transactions that abide by constraints and rules is written into the database otherwise database keep previous state.\n",
    "\n",
    "If you have defined a column as a Boolean with True or False values, you will be unable to enter in a value that equals “hello” which is a string. It will be rejected, and that transaction will not complete."
   ]
  },
  {
   "attachments": {},
   "cell_type": "markdown",
   "metadata": {},
   "source": [
    "#### 3. Isolation\n",
    "\n",
    "Transactions are processed independently and securely - order does not matter.\n",
    "\n",
    "Each transaction happens in a distinct order without any transactions occurring in tandem. Any writes performed on the database will not be impacted by other writes of separate transactions occurring on the same database. A global order is created with each transaction queueing up in line to ensure that the transactions complete in their entirety before another one begins."
   ]
  },
  {
   "attachments": {},
   "cell_type": "markdown",
   "metadata": {},
   "source": [
    "#### 4. Durability\n",
    "\n",
    "Completed transactions are saved to database even in cases of system failure.\n",
    "\n",
    "Durability guarantees that once a transaction *has been committed*, it will remain committed even in the case of system failure. Even if you pull the plug on your database, the data will be there when you plug it back in.\n"
   ]
  },
  {
   "attachments": {},
   "cell_type": "markdown",
   "metadata": {},
   "source": [
    "## When NOT to use relational databases"
   ]
  },
  {
   "attachments": {},
   "cell_type": "markdown",
   "metadata": {},
   "source": [
    "<li>Large amounts of data:</li> <br>\n",
    "Relational Databases are not distributed databases and because of this they can only scale vertically by adding more storage in the machine itself. You are limited by how much you can scale and how much data you can store on one machine. You cannot add more machines like you can in NoSQL databases.\n"
   ]
  },
  {
   "attachments": {},
   "cell_type": "markdown",
   "metadata": {},
   "source": [
    "<li>Need to be able to store different data type formats</li> <br>\n",
    "Relational databases are not designed to handle unstructured data.\n"
   ]
  },
  {
   "attachments": {},
   "cell_type": "markdown",
   "metadata": {},
   "source": [
    "<li>Need high throughput -- fast reads: </li> <br>\n",
    "While ACID transactions bring benefits, they also slow down the process of reading and writing data. If you need very fast reads and writes, using a relational database may not suit your needs."
   ]
  },
  {
   "attachments": {},
   "cell_type": "markdown",
   "metadata": {},
   "source": [
    "<li>Need a flexible schema: </li> <br>\n",
    "Flexible schema can allow for columns to be added that do not have to be used by every row, saving disk space."
   ]
  },
  {
   "attachments": {},
   "cell_type": "markdown",
   "metadata": {},
   "source": [
    "<li>Need high availability:</li> <br>\n",
    "The fact that relational databases are not distributed (and even when they are, they have a coordinator/worker architecture), they have a single point of failure. When that database goes down, a fail-over to a backup system occurs and takes time."
   ]
  },
  {
   "attachments": {},
   "cell_type": "markdown",
   "metadata": {},
   "source": [
    "<li>Need horizontal scalability: </li>\n",
    "Horizontal scalability is the ability to add more machines or nodes to a system to increase performance and space for data."
   ]
  }
 ],
 "metadata": {
  "kernelspec": {
   "display_name": "base",
   "language": "python",
   "name": "python3"
  },
  "language_info": {
   "name": "python",
   "version": "3.9.13 (main, Aug 25 2022, 23:51:50) [MSC v.1916 64 bit (AMD64)]"
  },
  "orig_nbformat": 4,
  "vscode": {
   "interpreter": {
    "hash": "e784092604130bb7844b67e4354338133fb81a42ea485e1ed7b30edde0dfdae6"
   }
  }
 },
 "nbformat": 4,
 "nbformat_minor": 2
}
