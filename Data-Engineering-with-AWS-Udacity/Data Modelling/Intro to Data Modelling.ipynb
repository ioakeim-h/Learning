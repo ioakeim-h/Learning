{
 "cells": [
  {
   "attachments": {},
   "cell_type": "markdown",
   "metadata": {},
   "source": [
    "# <center>Data Modelling</center>"
   ]
  },
  {
   "attachments": {},
   "cell_type": "markdown",
   "metadata": {},
   "source": [
    "Data modelling is the process of creating a model fo rhow data will be organised and how they will relate to each other within a database. A database is a collection of data that is stored and retrieved electronically."
   ]
  },
  {
   "attachments": {},
   "cell_type": "markdown",
   "metadata": {},
   "source": [
    "#### <li>Conceptual Data Modelling</li>\n",
    "The first step in data modelling is called Conceptual Data Modelling and refers to the process of mapping the concepts of the data. It is an abstract form of data model in that it is done mentally rather than physically. Here, the relationship between data is organised to established entities (tables) and their attributes (columns)."
   ]
  },
  {
   "attachments": {},
   "cell_type": "markdown",
   "metadata": {},
   "source": [
    "#### <li>Logical Data Modelling</li>\n",
    "A conceptual model is an organised **view** of the data required and their relationship. As the next step of modelling, logical models define the structure of data and set the relationship between them. For instance, data attributes are given data types (e.g. int, float, etc)."
   ]
  },
  {
   "attachments": {},
   "cell_type": "markdown",
   "metadata": {},
   "source": [
    "#### <li>Physical Data Modelling</li>\n",
    "This is where physical data come into place and actual coding begins to create and modify tables within a database. Transforming the logical data model to the database's Data Definition Language (DLL)."
   ]
  }
 ],
 "metadata": {
  "kernelspec": {
   "display_name": "base",
   "language": "python",
   "name": "python3"
  },
  "language_info": {
   "codemirror_mode": {
    "name": "ipython",
    "version": 3
   },
   "file_extension": ".py",
   "mimetype": "text/x-python",
   "name": "python",
   "nbconvert_exporter": "python",
   "pygments_lexer": "ipython3",
   "version": "3.9.13"
  },
  "orig_nbformat": 4,
  "vscode": {
   "interpreter": {
    "hash": "e784092604130bb7844b67e4354338133fb81a42ea485e1ed7b30edde0dfdae6"
   }
  }
 },
 "nbformat": 4,
 "nbformat_minor": 2
}
