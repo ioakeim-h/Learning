{
 "cells": [
  {
   "attachments": {},
   "cell_type": "markdown",
   "metadata": {},
   "source": [
    "## <center>Exercise 1: Creating a Table with Postgres</center>"
   ]
  },
  {
   "attachments": {},
   "cell_type": "markdown",
   "metadata": {},
   "source": [
    "<u>Tasks</u>\n",
    "<ul>\n",
    "<li>Create a table in Postgres</li>\n",
    "<li>Insert rows of data</li>\n",
    "<li>Run a simple SQL query to validate the information</li>\n",
    "</ul>"
   ]
  },
  {
   "cell_type": "code",
   "execution_count": 1,
   "metadata": {},
   "outputs": [],
   "source": [
    "import psycopg2"
   ]
  },
  {
   "cell_type": "code",
   "execution_count": 2,
   "metadata": {},
   "outputs": [],
   "source": [
    "conn = psycopg2.connect(\n",
    "    dbname = \"udacity\",\n",
    "    user = \"ioakeim\",\n",
    "    password = \"****\" \n",
    ")\n",
    "\n",
    "cur = conn.cursor()\n",
    "conn.set_session(autocommit = True)"
   ]
  },
  {
   "cell_type": "code",
   "execution_count": 3,
   "metadata": {},
   "outputs": [],
   "source": [
    "# Create music library\n",
    "cur.execute(\n",
    "    \"\"\"\n",
    "    CREATE TABLE IF NOT EXISTS music_library (\n",
    "        song_title varchar,\n",
    "        artist_name varchar,\n",
    "        year int,\n",
    "        album_name varchar,\n",
    "        single bool);\n",
    "    \"\"\"\n",
    ")"
   ]
  },
  {
   "cell_type": "code",
   "execution_count": 9,
   "metadata": {},
   "outputs": [],
   "source": [
    "# Insert rows\n",
    "cur.execute(\n",
    "    \"INSERT INTO music_library (song_title, artist_name, year, album_name, single) \\\n",
    "        VALUES (%s, %s, %s, %s, %s)\", \n",
    "        (\"Across the Universe\", \"The Beatles\", 1970, \"Let it Be\", False)\n",
    ")\n",
    "\n",
    "cur.execute(\n",
    "    \"INSERT INTO music_library (song_title, artist_name, year, album_name, single) \\\n",
    "        VALUES (%s, %s, %s, %s, %s)\", \n",
    "        (\"Think For Yourseld\", \"The Beatles\", 1965, \"Rubber Soul\", False)\n",
    ")"
   ]
  },
  {
   "cell_type": "code",
   "execution_count": 11,
   "metadata": {},
   "outputs": [
    {
     "name": "stdout",
     "output_type": "stream",
     "text": [
      "('Across the Universe', 'The Beatles', 1970, 'Let it Be', False)\n",
      "('Think For Yourseld', 'The Beatles', 1965, 'Rubber Soul', False)\n"
     ]
    }
   ],
   "source": [
    "# Validate\n",
    "cur.execute(\"SELECT * FROM music_library;\")\n",
    "\n",
    "row = cur.fetchone()\n",
    "while row:\n",
    "    print(row)\n",
    "    row = cur.fetchone()"
   ]
  },
  {
   "cell_type": "code",
   "execution_count": 12,
   "metadata": {},
   "outputs": [],
   "source": [
    "cur.close()\n",
    "conn.close()"
   ]
  }
 ],
 "metadata": {
  "kernelspec": {
   "display_name": "Python 3",
   "language": "python",
   "name": "python3"
  },
  "language_info": {
   "codemirror_mode": {
    "name": "ipython",
    "version": 3
   },
   "file_extension": ".py",
   "mimetype": "text/x-python",
   "name": "python",
   "nbconvert_exporter": "python",
   "pygments_lexer": "ipython3",
   "version": "3.9.13 (main, Aug 25 2022, 23:51:50) [MSC v.1916 64 bit (AMD64)]"
  },
  "orig_nbformat": 4,
  "vscode": {
   "interpreter": {
    "hash": "e784092604130bb7844b67e4354338133fb81a42ea485e1ed7b30edde0dfdae6"
   }
  }
 },
 "nbformat": 4,
 "nbformat_minor": 2
}
