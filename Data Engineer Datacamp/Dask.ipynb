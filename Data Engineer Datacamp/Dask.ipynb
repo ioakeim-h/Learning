{
 "cells": [
  {
   "attachments": {},
   "cell_type": "markdown",
   "metadata": {},
   "source": [
    "# <center>Dask</center>"
   ]
  },
  {
   "attachments": {},
   "cell_type": "markdown",
   "metadata": {},
   "source": [
    "<u>Why Dask</u> <br>\n",
    "\n",
    "If the dataset is too large to handle with Pandas, but the operation you want to perform is not optimal in Spark, you could consider Dask. Dask is a more light-weight parallel computing library that provides a distributed version of Pandas and NumPy. It allows you to perform Pandas-like operations on larger-than-memory datasets and can be used to handle data that does not fit in memory."
   ]
  }
 ],
 "metadata": {
  "language_info": {
   "name": "python"
  },
  "orig_nbformat": 4
 },
 "nbformat": 4,
 "nbformat_minor": 2
}
